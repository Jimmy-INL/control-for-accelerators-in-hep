{
 "cells": [
  {
   "cell_type": "code",
   "execution_count": 1,
   "metadata": {},
   "outputs": [
    {
     "name": "stderr",
     "output_type": "stream",
     "text": [
      "Using TensorFlow backend.\n"
     ]
    }
   ],
   "source": [
    "import pandas as pd\n",
    "import numpy as np\n",
    "from math import sqrt\n",
    "from matplotlib import pyplot as plt\n",
    "from sklearn.preprocessing import MinMaxScaler, RobustScaler\n",
    "from sklearn.metrics import mean_squared_error\n",
    "from keras.models import Sequential\n",
    "from keras.layers import Dense, LSTM, GRU, BatchNormalization\n",
    "import warnings\n",
    "warnings.filterwarnings(\"ignore\")\n",
    "%matplotlib inline\n",
    "#tf.__version__\n",
    "#tf.keras.__version__\n",
    "#pd.__version__"
   ]
  },
  {
   "cell_type": "code",
   "execution_count": 4,
   "metadata": {},
   "outputs": [
    {
     "name": "stdout",
     "output_type": "stream",
     "text": [
      "C:/Users/dkafkes/Desktop/fermi/accelerator-reinforcement-learning/control-for-accelerators-in-hep/dataprep\n",
      "C:\\Users\\dkafkes\\.ipython\n"
     ]
    }
   ],
   "source": [
    "import os\n",
    "import sys\n",
    "\n",
    "cwd = os.getcwd()\n",
    "new = 'C:/Users/dkafkes/Desktop/fermi/accelerator-reinforcement-learning/control-for-accelerators-in-hep/dataprep'\n",
    "\n",
    "sys.path.append('C:/Users/dkafkes/Desktop/fermi/accelerator-reinforcement-learning/control-for-accelerators-in-hep/dataprep')\n",
    "print(sys.path[-1])\n",
    "\n",
    "os.chdir(sys.path[-1])\n",
    "import dataset as dataset\n",
    "os.chdir(cwd)\n",
    "print(os.getcwd())"
   ]
  },
  {
   "cell_type": "code",
   "execution_count": 5,
   "metadata": {},
   "outputs": [
    {
     "name": "stdout",
     "output_type": "stream",
     "text": [
      "(1225585, 15)\n",
      "                      time   B:ACMNPG    B:GMPS4V  B:IMINER   B:LINFRQ  \\\n",
      "0  2020-03-10 05:00:00.048  10.000006  123.134498 -0.270313  26.063342   \n",
      "1  2020-03-10 05:00:00.114  10.000006  119.234494 -0.305312  26.008777   \n",
      "\n",
      "      B:VIMAX     B:VIMIN  B:VINHBT  B:VIPHAS   B_ACMNPG     B_VIMIN  \\\n",
      "0  966.083496  103.379570       1.0  1.811700  10.000006  103.393158   \n",
      "1  966.073730  103.421227       1.0  1.812469  10.000006  103.393158   \n",
      "\n",
      "   B_VINHBT       I:IB     I:MDAT40       I:MXIB  \n",
      "0       1.0  7055.9375  6977.386446  6974.145508  \n",
      "1       1.0  7017.1875  6261.596654  6250.284180  \n"
     ]
    }
   ],
   "source": [
    "## READ DATA ##\n",
    "dataset_dir = 'C:/Users/dkafkes/Desktop/fermi/accelerator-reinforcement-learning/control-for-accelerators-in-hep/data/'\n",
    "filename = 'MLParamData_1583906408.4261804_From_MLrn_2020-03-10+00_00_00_to_2020-03-11+00_00_00.h5_processed.csv.gz'\n",
    "df = dataset.load_data(dataset_dir+filename)\n",
    "print(df.shape)\n",
    "print(df.head(2))"
   ]
  },
  {
   "cell_type": "code",
   "execution_count": 6,
   "metadata": {},
   "outputs": [
    {
     "name": "stdout",
     "output_type": "stream",
     "text": [
      "                      time     B:VIMIN   B:ACMNPG   B:LINFRQ     B:VIMAX  \\\n",
      "0  2020-03-10 05:00:00.048  103.379570  10.000006  26.063342  966.083496   \n",
      "1  2020-03-10 05:00:00.114  103.421227  10.000006  26.008777  966.073730   \n",
      "2  2020-03-10 05:00:00.180  103.425453  10.000006  26.081531  966.037720   \n",
      "3  2020-03-10 05:00:00.246  103.420357  10.000006  26.208850  966.054077   \n",
      "4  2020-03-10 05:00:00.312  103.412270  10.000006  26.208850  966.031189   \n",
      "\n",
      "      B_VIMIN  B:IMINER  \n",
      "0  103.393158 -0.270313  \n",
      "1  103.393158 -0.305312  \n",
      "2  103.393158 -0.260313  \n",
      "3  103.393158 -0.185312  \n",
      "4  103.393158 -0.095312  \n",
      "(1225585, 7)\n"
     ]
    }
   ],
   "source": [
    "# columns of interest\n",
    "source_variables = ['time','B:VIMIN','B:ACMNPG','B:LINFRQ','B:VIMAX','B_VIMIN','B:IMINER']#, 'B_VIMIN','B:IMINER']\n",
    "# Extract data we're focused on\n",
    "source_df = df[source_variables]\n",
    "print(source_df.head())\n",
    "print(source_df.shape)"
   ]
  },
  {
   "cell_type": "code",
   "execution_count": 7,
   "metadata": {},
   "outputs": [
    {
     "data": {
      "text/plain": [
       "<matplotlib.axes._subplots.AxesSubplot at 0x20cc263d2b0>"
      ]
     },
     "execution_count": 7,
     "metadata": {},
     "output_type": "execute_result"
    },
    {
     "data": {
      "image/png": "[encoded data removed]",
      "text/plain": [
       "<Figure size 432x288 with 1 Axes>"
      ]
     },
     "metadata": {
      "needs_background": "light"
     },
     "output_type": "display_data"
    }
   ],
   "source": [
    "source_df['B:VIMIN'].plot()"
   ]
  },
  {
   "cell_type": "code",
   "execution_count": 8,
   "metadata": {},
   "outputs": [],
   "source": [
    "shift_steps = 1\n",
    "target_variables = ['B:VIMIN']\n",
    "df_targets = source_df[target_variables].shift(-shift_steps)"
   ]
  },
  {
   "cell_type": "code",
   "execution_count": 9,
   "metadata": {},
   "outputs": [
    {
     "data": {
      "text/html": [
       "<div>\n",
       "<style scoped>\n",
       "    .dataframe tbody tr th:only-of-type {\n",
       "        vertical-align: middle;\n",
       "    }\n",
       "\n",
       "    .dataframe tbody tr th {\n",
       "        vertical-align: top;\n",
       "    }\n",
       "\n",
       "    .dataframe thead th {\n",
       "        text-align: right;\n",
       "    }\n",
       "</style>\n",
       "<table border=\"1\" class=\"dataframe\">\n",
       "  <thead>\n",
       "    <tr style=\"text-align: right;\">\n",
       "      <th></th>\n",
       "      <th>B:VIMIN</th>\n",
       "    </tr>\n",
       "  </thead>\n",
       "  <tbody>\n",
       "    <tr>\n",
       "      <th>0</th>\n",
       "      <td>103.379570</td>\n",
       "    </tr>\n",
       "    <tr>\n",
       "      <th>1</th>\n",
       "      <td>103.421227</td>\n",
       "    </tr>\n",
       "    <tr>\n",
       "      <th>2</th>\n",
       "      <td>103.425453</td>\n",
       "    </tr>\n",
       "    <tr>\n",
       "      <th>3</th>\n",
       "      <td>103.420357</td>\n",
       "    </tr>\n",
       "    <tr>\n",
       "      <th>4</th>\n",
       "      <td>103.412270</td>\n",
       "    </tr>\n",
       "    <tr>\n",
       "      <th>5</th>\n",
       "      <td>103.403305</td>\n",
       "    </tr>\n",
       "  </tbody>\n",
       "</table>\n",
       "</div>"
      ],
      "text/plain": [
       "      B:VIMIN\n",
       "0  103.379570\n",
       "1  103.421227\n",
       "2  103.425453\n",
       "3  103.420357\n",
       "4  103.412270\n",
       "5  103.403305"
      ]
     },
     "execution_count": 9,
     "metadata": {},
     "output_type": "execute_result"
    }
   ],
   "source": [
    "source_df[target_variables].head(shift_steps + 5)"
   ]
  },
  {
   "cell_type": "code",
   "execution_count": 10,
   "metadata": {},
   "outputs": [
    {
     "data": {
      "text/html": [
       "<div>\n",
       "<style scoped>\n",
       "    .dataframe tbody tr th:only-of-type {\n",
       "        vertical-align: middle;\n",
       "    }\n",
       "\n",
       "    .dataframe tbody tr th {\n",
       "        vertical-align: top;\n",
       "    }\n",
       "\n",
       "    .dataframe thead th {\n",
       "        text-align: right;\n",
       "    }\n",
       "</style>\n",
       "<table border=\"1\" class=\"dataframe\">\n",
       "  <thead>\n",
       "    <tr style=\"text-align: right;\">\n",
       "      <th></th>\n",
       "      <th>B:VIMIN</th>\n",
       "    </tr>\n",
       "  </thead>\n",
       "  <tbody>\n",
       "    <tr>\n",
       "      <th>0</th>\n",
       "      <td>103.421227</td>\n",
       "    </tr>\n",
       "    <tr>\n",
       "      <th>1</th>\n",
       "      <td>103.425453</td>\n",
       "    </tr>\n",
       "    <tr>\n",
       "      <th>2</th>\n",
       "      <td>103.420357</td>\n",
       "    </tr>\n",
       "    <tr>\n",
       "      <th>3</th>\n",
       "      <td>103.412270</td>\n",
       "    </tr>\n",
       "    <tr>\n",
       "      <th>4</th>\n",
       "      <td>103.403305</td>\n",
       "    </tr>\n",
       "  </tbody>\n",
       "</table>\n",
       "</div>"
      ],
      "text/plain": [
       "      B:VIMIN\n",
       "0  103.421227\n",
       "1  103.425453\n",
       "2  103.420357\n",
       "3  103.412270\n",
       "4  103.403305"
      ]
     },
     "execution_count": 10,
     "metadata": {},
     "output_type": "execute_result"
    }
   ],
   "source": [
    "df_targets.head(5)"
   ]
  },
  {
   "cell_type": "code",
   "execution_count": 11,
   "metadata": {},
   "outputs": [
    {
     "name": "stdout",
     "output_type": "stream",
     "text": [
      "<class 'pandas.core.frame.DataFrame'>\n",
      "Shape: (1225584, 6)\n",
      "      B:VIMIN   B:ACMNPG   B:LINFRQ     B:VIMAX     B_VIMIN  B:IMINER\n",
      "0  103.379570  10.000006  26.063342  966.083496  103.393158 -0.270313\n",
      "1  103.421227  10.000006  26.008777  966.073730  103.393158 -0.305312\n",
      "2  103.425453  10.000006  26.081531  966.037720  103.393158 -0.260313\n",
      "3  103.420357  10.000006  26.208850  966.054077  103.393158 -0.185312\n",
      "4  103.412270  10.000006  26.208850  966.031189  103.393158 -0.095312\n"
     ]
    }
   ],
   "source": [
    "x_data = source_df[source_variables][0:-shift_steps]\n",
    "del x_data['time']\n",
    "print(type(x_data))\n",
    "print(\"Shape:\", x_data.shape)\n",
    "print((x_data.head()))\n",
    "#print((x_data[0]))"
   ]
  },
  {
   "cell_type": "code",
   "execution_count": 12,
   "metadata": {},
   "outputs": [
    {
     "name": "stdout",
     "output_type": "stream",
     "text": [
      "<class 'numpy.ndarray'>\n",
      "Shape: (1225584, 1)\n",
      "[103.4212265]\n"
     ]
    }
   ],
   "source": [
    "y_data = df_targets.values[:-shift_steps]\n",
    "print(type(y_data))\n",
    "print(\"Shape:\", y_data.shape)\n",
    "print((y_data[0]))"
   ]
  },
  {
   "cell_type": "code",
   "execution_count": 13,
   "metadata": {},
   "outputs": [
    {
     "data": {
      "text/plain": [
       "1225584"
      ]
     },
     "execution_count": 13,
     "metadata": {},
     "output_type": "execute_result"
    }
   ],
   "source": [
    "num_data = len(x_data)\n",
    "num_data"
   ]
  },
  {
   "cell_type": "code",
   "execution_count": 14,
   "metadata": {},
   "outputs": [
    {
     "data": {
      "text/plain": [
       "1103025"
      ]
     },
     "execution_count": 14,
     "metadata": {},
     "output_type": "execute_result"
    }
   ],
   "source": [
    "train_split = 0.9\n",
    "num_train = int(train_split * num_data)\n",
    "num_train"
   ]
  },
  {
   "cell_type": "code",
   "execution_count": 15,
   "metadata": {},
   "outputs": [
    {
     "data": {
      "text/plain": [
       "122559"
      ]
     },
     "execution_count": 15,
     "metadata": {},
     "output_type": "execute_result"
    }
   ],
   "source": [
    "num_test = num_data - num_train\n",
    "num_test"
   ]
  },
  {
   "cell_type": "code",
   "execution_count": 16,
   "metadata": {},
   "outputs": [
    {
     "data": {
      "text/plain": [
       "1225584"
      ]
     },
     "execution_count": 16,
     "metadata": {},
     "output_type": "execute_result"
    }
   ],
   "source": [
    "x_train = x_data[0:num_train]\n",
    "x_test = x_data[num_train:]\n",
    "len(x_train) + len(x_test)"
   ]
  },
  {
   "cell_type": "code",
   "execution_count": 17,
   "metadata": {},
   "outputs": [
    {
     "data": {
      "text/plain": [
       "1225584"
      ]
     },
     "execution_count": 17,
     "metadata": {},
     "output_type": "execute_result"
    }
   ],
   "source": [
    "y_train = y_data[0:num_train]\n",
    "y_test = y_data[num_train:]\n",
    "len(y_train) + len(y_test)"
   ]
  },
  {
   "cell_type": "code",
   "execution_count": 18,
   "metadata": {},
   "outputs": [
    {
     "data": {
      "text/plain": [
       "6"
      ]
     },
     "execution_count": 18,
     "metadata": {},
     "output_type": "execute_result"
    }
   ],
   "source": [
    "num_x_signals = x_data.shape[1]\n",
    "num_x_signals"
   ]
  },
  {
   "cell_type": "code",
   "execution_count": 19,
   "metadata": {},
   "outputs": [
    {
     "data": {
      "text/plain": [
       "1"
      ]
     },
     "execution_count": 19,
     "metadata": {},
     "output_type": "execute_result"
    }
   ],
   "source": [
    "num_y_signals = y_data.shape[1]\n",
    "num_y_signals"
   ]
  },
  {
   "cell_type": "code",
   "execution_count": 20,
   "metadata": {},
   "outputs": [
    {
     "name": "stdout",
     "output_type": "stream",
     "text": [
      "            B:VIMIN   B:ACMNPG   B:LINFRQ     B:VIMAX     B_VIMIN  B:IMINER\n",
      "0        103.379570  10.000006  26.063342  966.083496  103.393158 -0.270313\n",
      "1        103.421227  10.000006  26.008777  966.073730  103.393158 -0.305312\n",
      "2        103.425453  10.000006  26.081531  966.037720  103.393158 -0.260313\n",
      "3        103.420357  10.000006  26.208850  966.054077  103.393158 -0.185312\n",
      "4        103.412270  10.000006  26.208850  966.031189  103.393158 -0.095312\n",
      "...             ...        ...        ...         ...         ...       ...\n",
      "1177987  103.478264  10.000006  -7.271588  966.024597  103.439636 -0.370312\n",
      "1177988  103.465950  10.000006  -7.307965  966.027893  103.439636 -0.260313\n",
      "1177989  103.454834  10.000006  -7.421643  966.027893  103.439636 -0.150312\n",
      "1177990  103.440147  10.000006  -7.371625  966.031189  103.439636 -0.010313\n",
      "1177991  103.434395  10.000006  -7.376172  966.040955  103.439636  0.054688\n",
      "\n",
      "[1103025 rows x 6 columns]\n"
     ]
    }
   ],
   "source": [
    "print(x_train)"
   ]
  },
  {
   "cell_type": "code",
   "execution_count": 21,
   "metadata": {},
   "outputs": [
    {
     "name": "stdout",
     "output_type": "stream",
     "text": [
      "Min: 0.0\n",
      "Max: 1.0\n"
     ]
    }
   ],
   "source": [
    "x_scaler = MinMaxScaler()\n",
    "x_train_scaled = x_scaler.fit_transform(x_train)\n",
    "x_test_scaled = x_scaler.fit_transform(x_test)\n",
    "print(\"Min:\", np.min(x_train_scaled))\n",
    "print(\"Max:\", np.max(x_train_scaled))"
   ]
  },
  {
   "cell_type": "code",
   "execution_count": 22,
   "metadata": {},
   "outputs": [
    {
     "name": "stdout",
     "output_type": "stream",
     "text": [
      "Min: 0.0\n",
      "Max: 1.0\n"
     ]
    }
   ],
   "source": [
    "y_scaler = MinMaxScaler()\n",
    "y_train_scaled = y_scaler.fit_transform(y_train)\n",
    "y_test_scaled = y_scaler.transform(y_test)\n",
    "print(\"Min:\", np.min(y_train_scaled))\n",
    "print(\"Max:\", np.max(y_train_scaled))"
   ]
  },
  {
   "cell_type": "code",
   "execution_count": 24,
   "metadata": {},
   "outputs": [
    {
     "data": {
      "text/plain": [
       "[<matplotlib.lines.Line2D at 0x20cc2e78ca0>]"
      ]
     },
     "execution_count": 24,
     "metadata": {},
     "output_type": "execute_result"
    },
    {
     "data": {
      "image/png": "[encoded data removed]",
      "text/plain": [
       "<Figure size 432x288 with 2 Axes>"
      ]
     },
     "metadata": {
      "needs_background": "light"
     },
     "output_type": "display_data"
    }
   ],
   "source": [
    "import matplotlib.pyplot as plt\n",
    "# plot a line, implicitly creating a subplot(111)\n",
    "plt.plot([1,2,3])\n",
    "# now create a subplot which represents the top plot of a grid\n",
    "# with 2 rows and 1 column. Since this subplot will overlap the\n",
    "# first, the plot (and its axes) previously created, will be removed\n",
    "plt.subplot(211)\n",
    "plt.ylabel('Scaled Variables')\n",
    "plt.plot(y_train_scaled)\n",
    "\n",
    "plt.subplot(212) # creates 2nd subplot with yellow background\n",
    "plt.ylabel('Unscaled Variables')\n",
    "plt.plot(y_scaler.inverse_transform(y_train_scaled))"
   ]
  },
  {
   "cell_type": "code",
   "execution_count": 94,
   "metadata": {},
   "outputs": [],
   "source": [
    "def batch_generator(x_scaled, y_scaled, num, batch_size, sequence_length):\n",
    "    \"\"\"\n",
    "    Generator function for creating random batches of training-data.\n",
    "    \"\"\"\n",
    "\n",
    "    # Infinite loop.\n",
    "    while True:\n",
    "        # Allocate a new array for the batch of input-signals.\n",
    "        x_shape = (batch_size, sequence_length, num_x_signals)\n",
    "        x_batch = np.zeros(shape=x_shape, dtype=np.float16)\n",
    "\n",
    "        # Allocate a new array for the batch of output-signals.\n",
    "        y_shape = (batch_size, sequence_length, num_y_signals)\n",
    "        y_batch = np.zeros(shape=y_shape, dtype=np.float16)\n",
    "\n",
    "        # Fill the batch with random sequences of data.\n",
    "        for i in range(batch_size):\n",
    "            # Get a random start-index.\n",
    "            # This points somewhere into the training-data.\n",
    "            idx = np.random.randint(num - sequence_length)\n",
    "            # Copy the sequences of data starting at this index.\n",
    "            x_batch[i] = x_scaled[idx:idx+sequence_length]\n",
    "            y_batch[i] = y_scaled[idx:idx+sequence_length]\n",
    "        \n",
    "        yield (x_batch, y_batch)"
   ]
  },
  {
   "cell_type": "code",
   "execution_count": 95,
   "metadata": {},
   "outputs": [],
   "source": [
    "batch_size = 256"
   ]
  },
  {
   "cell_type": "code",
   "execution_count": 96,
   "metadata": {},
   "outputs": [
    {
     "data": {
      "text/plain": [
       "45"
      ]
     },
     "execution_count": 96,
     "metadata": {},
     "output_type": "execute_result"
    }
   ],
   "source": [
    "sequence_length = 3*(15) ## 60 seconds - super cycle\n",
    "sequence_length"
   ]
  },
  {
   "cell_type": "code",
   "execution_count": 97,
   "metadata": {},
   "outputs": [],
   "source": [
    "train_generator = batch_generator(x_train_scaled, y_train_scaled, num=num_train, batch_size=batch_size, sequence_length=sequence_length)"
   ]
  },
  {
   "cell_type": "code",
   "execution_count": 98,
   "metadata": {},
   "outputs": [],
   "source": [
    "x_batch, y_batch = next(train_generator)"
   ]
  },
  {
   "cell_type": "code",
   "execution_count": 99,
   "metadata": {},
   "outputs": [
    {
     "name": "stdout",
     "output_type": "stream",
     "text": [
      "(256, 45, 6)\n",
      "(256, 45, 1)\n"
     ]
    }
   ],
   "source": [
    "print(x_batch.shape)\n",
    "print(y_batch.shape)"
   ]
  },
  {
   "cell_type": "code",
   "execution_count": 100,
   "metadata": {},
   "outputs": [
    {
     "data": {
      "text/plain": [
       "[<matplotlib.lines.Line2D at 0x20c83a66a00>]"
      ]
     },
     "execution_count": 100,
     "metadata": {},
     "output_type": "execute_result"
    },
    {
     "data": {
      "image/png": "[encoded data removed]",
      "text/plain": [
       "<Figure size 432x288 with 1 Axes>"
      ]
     },
     "metadata": {
      "needs_background": "light"
     },
     "output_type": "display_data"
    }
   ],
   "source": [
    "batch = 0   # First sequence in the batch.\n",
    "signal = 0  # First signal from the 20 input-signals.\n",
    "seq = x_batch[batch, :, signal]\n",
    "plt.plot(seq)"
   ]
  },
  {
   "cell_type": "code",
   "execution_count": 101,
   "metadata": {},
   "outputs": [
    {
     "data": {
      "text/plain": [
       "[<matplotlib.lines.Line2D at 0x20c83cd2cd0>]"
      ]
     },
     "execution_count": 101,
     "metadata": {},
     "output_type": "execute_result"
    },
    {
     "data": {
      "image/png": "[encoded data removed]",
      "text/plain": [
       "<Figure size 432x288 with 1 Axes>"
      ]
     },
     "metadata": {
      "needs_background": "light"
     },
     "output_type": "display_data"
    }
   ],
   "source": [
    "seq = y_batch[batch, :, signal]\n",
    "plt.plot(seq)"
   ]
  },
  {
   "cell_type": "code",
   "execution_count": 33,
   "metadata": {},
   "outputs": [],
   "source": [
    "validation_data = (x_batch, y_batch)"
   ]
  },
  {
   "cell_type": "code",
   "execution_count": 34,
   "metadata": {},
   "outputs": [
    {
     "name": "stdout",
     "output_type": "stream",
     "text": [
      "Model: \"sequential_1\"\n",
      "_________________________________________________________________\n",
      "Layer (type)                 Output Shape              Param #   \n",
      "=================================================================\n",
      "lstm_1 (LSTM)                (None, None, 512)         1062912   \n",
      "_________________________________________________________________\n",
      "batch_normalization_1 (Batch (None, None, 512)         2048      \n",
      "_________________________________________________________________\n",
      "dense_1 (Dense)              (None, None, 1)           513       \n",
      "=================================================================\n",
      "Total params: 1,065,473\n",
      "Trainable params: 1,064,449\n",
      "Non-trainable params: 1,024\n",
      "_________________________________________________________________\n"
     ]
    }
   ],
   "source": [
    "model = Sequential()\n",
    "model.add(LSTM(units=512,\n",
    "              return_sequences=True,\n",
    "              input_shape=(None, num_x_signals,)))\n",
    "model.add(BatchNormalization())\n",
    "model.add(Dense(num_y_signals, activation='tanh'))\n",
    "from keras.optimizers import  SGD, Adam\n",
    "opt = Adam(lr=0.001)\n",
    "model.compile(loss='mse', optimizer=opt)\n",
    "model.summary()"
   ]
  },
  {
   "cell_type": "code",
   "execution_count": 35,
   "metadata": {},
   "outputs": [],
   "source": [
    "from keras.callbacks import ReduceLROnPlateau, EarlyStopping\n",
    "reduce_lr = ReduceLROnPlateau(monitor='val_loss', factor=0.5, patience=2, min_lr=0.00001,verbose=1)\n",
    "early_stopping = EarlyStopping(monitor='val_loss', min_delta=0, patience=10, verbose=1, mode='auto', baseline=None, restore_best_weights=False)"
   ]
  },
  {
   "cell_type": "code",
   "execution_count": 36,
   "metadata": {},
   "outputs": [
    {
     "name": "stdout",
     "output_type": "stream",
     "text": [
      "Epoch 1/10\n",
      " - 79s - loss: 0.1447 - val_loss: 0.0094\n",
      "Epoch 2/10\n",
      " - 73s - loss: 0.0034 - val_loss: 1.0614e-04\n",
      "Epoch 3/10\n",
      " - 75s - loss: 3.1293e-04 - val_loss: 8.0981e-04\n",
      "Epoch 4/10\n",
      " - 76s - loss: 1.5645e-04 - val_loss: 0.0011\n",
      "\n",
      "Epoch 00004: ReduceLROnPlateau reducing learning rate to 0.0005000000237487257.\n",
      "Epoch 5/10\n",
      " - 77s - loss: 1.0817e-04 - val_loss: 9.8535e-04\n",
      "Epoch 6/10\n",
      " - 74s - loss: 8.5543e-05 - val_loss: 9.6166e-04\n",
      "\n",
      "Epoch 00006: ReduceLROnPlateau reducing learning rate to 0.0002500000118743628.\n",
      "Epoch 7/10\n",
      " - 74s - loss: 7.3388e-05 - val_loss: 7.9828e-04\n",
      "Epoch 8/10\n",
      " - 79s - loss: 6.9457e-05 - val_loss: 7.4746e-04\n",
      "\n",
      "Epoch 00008: ReduceLROnPlateau reducing learning rate to 0.0001250000059371814.\n",
      "Epoch 9/10\n",
      " - 81s - loss: 6.1099e-05 - val_loss: 5.8775e-04\n",
      "Epoch 10/10\n",
      " - 76s - loss: 5.7250e-05 - val_loss: 5.2800e-04\n",
      "\n",
      "Epoch 00010: ReduceLROnPlateau reducing learning rate to 6.25000029685907e-05.\n",
      "Wall time: 12min 46s\n"
     ]
    }
   ],
   "source": [
    "%%time\n",
    "history = model.fit_generator(generator= train_generator,\n",
    "                    epochs=10,\n",
    "                    steps_per_epoch=50,\n",
    "                    validation_data=validation_data,\n",
    "                    callbacks=[reduce_lr,early_stopping],\n",
    "                    verbose=2)"
   ]
  },
  {
   "cell_type": "code",
   "execution_count": 102,
   "metadata": {},
   "outputs": [
    {
     "data": {
      "image/png": "[encoded data removed]",
      "text/plain": [
       "<Figure size 432x288 with 1 Axes>"
      ]
     },
     "metadata": {
      "needs_background": "light"
     },
     "output_type": "display_data"
    }
   ],
   "source": [
    "##############\n",
    "# SAVE PLOTS #\n",
    "##############\n",
    "def makePlots(history, figname_prefix='', withval=True):\n",
    "    figname=figname_prefix\n",
    "\n",
    "    #training, validation, and test loss\n",
    "    plt.plot(history.history['loss'])\n",
    "    if withval:\n",
    "        plt.plot(history.history['val_loss'])\n",
    "    #plt.scatter(epochs-1,test_loss)\n",
    "    plt.title('loss')\n",
    "    plt.xlabel('epoch')\n",
    "    plt.ylabel('loss')\n",
    "    plt.legend(['training', 'validation'], loc='upper right')\n",
    "    plt.show()\n",
    "\n",
    "    #plt.savefig(figname+'lossplot.png')\n",
    "    #plt.close()\n",
    "\n",
    "makePlots(history)"
   ]
  },
  {
   "cell_type": "code",
   "execution_count": 105,
   "metadata": {
    "scrolled": false
   },
   "outputs": [
    {
     "name": "stdout",
     "output_type": "stream",
     "text": [
      "(256, 45, 6)\n",
      "(256, 45, 1)\n"
     ]
    }
   ],
   "source": [
    "test_generator = batch_generator(x_test_scaled, y_test_scaled, num=num_test, batch_size=batch_size, sequence_length=sequence_length)\n",
    "x_batch_test, y_batch_test = next(train_generator)\n",
    "print(x_batch_test.shape)\n",
    "print(y_batch_test.shape)"
   ]
  },
  {
   "cell_type": "code",
   "execution_count": 106,
   "metadata": {},
   "outputs": [],
   "source": [
    "predictions = model.predict(test_generator, steps = 4)"
   ]
  },
  {
   "cell_type": "code",
   "execution_count": 109,
   "metadata": {},
   "outputs": [
    {
     "data": {
      "text/plain": [
       "(45, 1)"
      ]
     },
     "execution_count": 109,
     "metadata": {},
     "output_type": "execute_result"
    }
   ],
   "source": [
    "predictions[0].shape"
   ]
  },
  {
   "cell_type": "code",
   "execution_count": 114,
   "metadata": {},
   "outputs": [
    {
     "data": {
      "text/plain": [
       "array([[0.31930423],\n",
       "       [0.34234706],\n",
       "       [0.30841666],\n",
       "       [0.29877105],\n",
       "       [0.30510756],\n",
       "       [0.3019086 ],\n",
       "       [0.29581   ],\n",
       "       [0.28391322],\n",
       "       [0.27880612],\n",
       "       [0.26929858],\n",
       "       [0.26223484],\n",
       "       [0.2583726 ],\n",
       "       [0.2659494 ],\n",
       "       [0.26207155],\n",
       "       [0.26815507],\n",
       "       [0.2917442 ],\n",
       "       [0.28422755],\n",
       "       [0.28292224],\n",
       "       [0.29614654],\n",
       "       [0.2872059 ],\n",
       "       [0.2844356 ],\n",
       "       [0.29475227],\n",
       "       [0.29354516],\n",
       "       [0.3010804 ],\n",
       "       [0.29627794],\n",
       "       [0.28916097],\n",
       "       [0.28409564],\n",
       "       [0.2855807 ],\n",
       "       [0.2812533 ],\n",
       "       [0.26468426],\n",
       "       [0.26563382],\n",
       "       [0.27319205],\n",
       "       [0.28096542],\n",
       "       [0.28582543],\n",
       "       [0.28534076],\n",
       "       [0.29477513],\n",
       "       [0.2882919 ],\n",
       "       [0.2894763 ],\n",
       "       [0.2930869 ],\n",
       "       [0.2985911 ],\n",
       "       [0.28419304],\n",
       "       [0.2745958 ],\n",
       "       [0.2763857 ],\n",
       "       [0.28219134],\n",
       "       [0.29100108]], dtype=float32)"
      ]
     },
     "execution_count": 114,
     "metadata": {},
     "output_type": "execute_result"
    }
   ],
   "source": [
    "predictions[-1]"
   ]
  },
  {
   "cell_type": "code",
   "execution_count": null,
   "metadata": {},
   "outputs": [],
   "source": []
  }
 ],
 "metadata": {
  "kernelspec": {
   "display_name": "AIgym",
   "language": "python",
   "name": "aigym"
  },
  "language_info": {
   "codemirror_mode": {
    "name": "ipython",
    "version": 3
   },
   "file_extension": ".py",
   "mimetype": "text/x-python",
   "name": "python",
   "nbconvert_exporter": "python",
   "pygments_lexer": "ipython3",
   "version": "3.8.3"
  }
 },
 "nbformat": 4,
 "nbformat_minor": 4
}
